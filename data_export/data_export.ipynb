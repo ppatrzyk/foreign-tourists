{
 "cells": [
  {
   "cell_type": "code",
   "execution_count": 1,
   "metadata": {},
   "outputs": [],
   "source": [
    "API_KEY = '7cdd07b1-a88d-46ab-aace-08d87d719481'\n",
    "# https://api.stat.gov.pl/Home/BdlApi"
   ]
  },
  {
   "cell_type": "code",
   "execution_count": null,
   "metadata": {},
   "outputs": [],
   "source": [
    "# links to variables are here, take all one call sufficient\n",
    "# https://bdl.stat.gov.pl/api/v1/variables?subject-id=P2759&format=json&page-size=100\n",
    "    \n",
    "loop through all ids e.g. 148074\n",
    "# these will have more than one page\n",
    "# https://bdl.stat.gov.pl/api/v1/data/by-variable/148095?format=json&page=0&page-size=100"
   ]
  }
 ],
 "metadata": {
  "kernelspec": {
   "display_name": "Python 3",
   "language": "python",
   "name": "python3"
  },
  "language_info": {
   "codemirror_mode": {
    "name": "ipython",
    "version": 3
   },
   "file_extension": ".py",
   "mimetype": "text/x-python",
   "name": "python",
   "nbconvert_exporter": "python",
   "pygments_lexer": "ipython3",
   "version": "3.8.0"
  }
 },
 "nbformat": 4,
 "nbformat_minor": 4
}
